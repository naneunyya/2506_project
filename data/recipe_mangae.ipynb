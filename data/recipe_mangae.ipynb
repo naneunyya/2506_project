{
 "cells": [
  {
   "cell_type": "markdown",
   "id": "1137e502",
   "metadata": {},
   "source": [
    "## 데이터 수집"
   ]
  },
  {
   "cell_type": "markdown",
   "id": "053db5a7",
   "metadata": {},
   "source": [
    "- https://kadx.co.kr/opmk/frn/pmumkproductDetail/PMU_79c6f1a4-56dd-492e-ad67-c5acba0304d2/5# 에서 무료 제공\n",
    "- csv파일 3개 다운로드"
   ]
  },
  {
   "cell_type": "markdown",
   "id": "fcc42783",
   "metadata": {},
   "source": [
    "## 데이터 전처리"
   ]
  },
  {
   "cell_type": "markdown",
   "id": "8ea57abd",
   "metadata": {},
   "source": [
    "### 인코딩 \n",
    "- 인코딩 utf-8"
   ]
  },
  {
   "cell_type": "code",
   "execution_count": null,
   "id": "b707e305",
   "metadata": {},
   "outputs": [
    {
     "name": "stdout",
     "output_type": "stream",
     "text": [
      "[감지됨] TB_RECIPE_SEARCH_241226.csv → 인코딩: utf-8\n",
      "[저장 완료] TB_RECIPE_SEARCH_241226.csv → UTF-8 인코딩 완료\n"
     ]
    }
   ],
   "source": [
    "import pandas as pd\n",
    "import chardet\n",
    "\n",
    "# 기존 파일 리스트\n",
    "original_paths = [\n",
    "    \"TB_RECIPE_SEARCH-220701.csv\",\n",
    "    \"TB_RECIPE_SEARCH-20231130.csv\",\n",
    "    \"TB_RECIPE_SEARCH_241226.csv\"\n",
    "]\n",
    "\n",
    "def encoding(filepath, num_bytes=10000):\n",
    "    # 인코딩 감지\n",
    "    with open(filepath, 'rb') as f:\n",
    "        raw = f.read(num_bytes)\n",
    "    result = chardet.detect(raw)\n",
    "    return result['encoding']\n",
    "\n",
    "# 인코딩 변환 및 덮어쓰기 저장\n",
    "for path in original_paths:\n",
    "    try:\n",
    "        detected_encoding = encoding(path)\n",
    "        print(f\"[감지됨] {path} → 인코딩: {detected_encoding}\")\n",
    "\n",
    "        # 감지된 인코딩으로 열기\n",
    "        with open(path, 'r', encoding=detected_encoding, errors='replace') as f:\n",
    "            df = pd.read_csv(f)\n",
    "\n",
    "        # UTF-8 인코딩 덮어쓰기 저장\n",
    "        df.to_csv(path, index=False, encoding='utf-8-sig')\n",
    "\n",
    "        print(f\"[저장 완료] {path} → UTF-8 인코딩 완료\")\n",
    "\n",
    "    except Exception as e:\n",
    "        print(f\"[실패] {path}: {e}\")"
   ]
  },
  {
   "cell_type": "markdown",
   "id": "4db379d8",
   "metadata": {},
   "source": [
    "### 파일 통합\n",
    "- 3개 파일 통합\n",
    "- .json로 변환\n",
    "- github push 용량 제한으로 다시 4분할"
   ]
  },
  {
   "cell_type": "code",
   "execution_count": 1,
   "id": "d2617ac0",
   "metadata": {},
   "outputs": [
    {
     "name": "stdout",
     "output_type": "stream",
     "text": [
      "[읽기 완료] TB_RECIPE_SEARCH-220701.csv\n",
      "[읽기 완료] TB_RECIPE_SEARCH-20231130.csv\n",
      "[읽기 완료] TB_RECIPE_SEARCH_241226.csv\n"
     ]
    },
    {
     "name": "stderr",
     "output_type": "stream",
     "text": [
      "c:\\Users\\User\\miniconda3\\envs\\boracay\\Lib\\site-packages\\numpy\\_core\\fromnumeric.py:57: FutureWarning: 'DataFrame.swapaxes' is deprecated and will be removed in a future version. Please use 'DataFrame.transpose' instead.\n",
      "  return bound(*args, **kwds)\n"
     ]
    },
    {
     "name": "stdout",
     "output_type": "stream",
     "text": [
      "[저장 완료] recipe_mangae_1.json → 84146개 레시피\n",
      "[저장 완료] recipe_mangae_2.json → 84146개 레시피\n",
      "[저장 완료] recipe_mangae_3.json → 84146개 레시피\n",
      "[저장 완료] recipe_mangae_4.json → 84145개 레시피\n"
     ]
    }
   ],
   "source": [
    "import pandas as pd\n",
    "import numpy as np\n",
    "\n",
    "# 파일 리스트\n",
    "csv_files = [\n",
    "    \"TB_RECIPE_SEARCH-220701.csv\",\n",
    "    \"TB_RECIPE_SEARCH-20231130.csv\",\n",
    "    \"TB_RECIPE_SEARCH_241226.csv\"\n",
    "]\n",
    "\n",
    "# 하나의 DataFrame으로 결합\n",
    "df_list = []\n",
    "for file in csv_files:\n",
    "    try:\n",
    "        df = pd.read_csv(file, encoding='utf-8-sig')\n",
    "        df_list.append(df)\n",
    "        print(f\"[읽기 완료] {file}\")\n",
    "    except Exception as e:\n",
    "        print(f\"[오류] {file}: {e}\")\n",
    "\n",
    "# DataFrame 병합\n",
    "merged_df = pd.concat(df_list, ignore_index=True)\n",
    "\n",
    "# 4분할 저장\n",
    "chunks = np.array_split(merged_df, 4) \n",
    "for i, chunk in enumerate(chunks, 1):\n",
    "    output_file = f\"recipe_mangae_{i}.json\"\n",
    "    chunk.to_json(output_file, orient='records', force_ascii=False, indent=2)\n",
    "    print(f\"[저장 완료] {output_file} → {len(chunk)}개 레시피\")"
   ]
  }
 ],
 "metadata": {
  "kernelspec": {
   "display_name": "boracay",
   "language": "python",
   "name": "python3"
  },
  "language_info": {
   "codemirror_mode": {
    "name": "ipython",
    "version": 3
   },
   "file_extension": ".py",
   "mimetype": "text/x-python",
   "name": "python",
   "nbconvert_exporter": "python",
   "pygments_lexer": "ipython3",
   "version": "3.11.5"
  }
 },
 "nbformat": 4,
 "nbformat_minor": 5
}
