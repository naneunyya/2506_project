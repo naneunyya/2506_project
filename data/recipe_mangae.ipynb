{
 "cells": [
  {
   "cell_type": "markdown",
   "id": "1137e502",
   "metadata": {},
   "source": [
    "## 데이터 수집"
   ]
  },
  {
   "cell_type": "markdown",
   "id": "053db5a7",
   "metadata": {},
   "source": [
    "- https://kadx.co.kr/opmk/frn/pmumkproductDetail/PMU_79c6f1a4-56dd-492e-ad67-c5acba0304d2/5# 에서 무료 제공\n",
    "- csv파일 3개 다운로드"
   ]
  }
 ],
 "metadata": {
  "kernelspec": {
   "display_name": "boracay",
   "language": "python",
   "name": "python3"
  },
  "language_info": {
   "name": "python",
   "version": "3.11.5"
  }
 },
 "nbformat": 4,
 "nbformat_minor": 5
}
