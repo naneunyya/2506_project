{
 "cells": [
  {
   "cell_type": "markdown",
   "id": "1137e502",
   "metadata": {},
   "source": [
    "## 데이터 수집"
   ]
  },
  {
   "cell_type": "markdown",
   "id": "053db5a7",
   "metadata": {},
   "source": [
    "- https://kadx.co.kr/opmk/frn/pmumkproductDetail/PMU_79c6f1a4-56dd-492e-ad67-c5acba0304d2/5# 에서 무료 제공\n",
    "- csv파일 3개 다운로드"
   ]
  },
  {
   "cell_type": "markdown",
   "id": "fcc42783",
   "metadata": {},
   "source": [
    "## 데이터 전처리"
   ]
  },
  {
   "cell_type": "markdown",
   "id": "19db6311",
   "metadata": {},
   "source": [
    "### json file 관련 함수 \n",
    "\n",
    "- save_json : 데이터를 json으로 저장\n",
    "- load_json : json 파일 불러오기\n",
    "- 기본 경로 현재 폴더인 'data'로 지정 해둠."
   ]
  },
  {
   "cell_type": "code",
   "execution_count": 4,
   "id": "b134bc95",
   "metadata": {},
   "outputs": [],
   "source": [
    "import os\n",
    "import json\n",
    "\n",
    "def save_json(data, filename):\n",
    "    with open(filename, 'w', encoding='utf-8') as f:\n",
    "        json.dump(data, f, indent=4, ensure_ascii=False)\n",
    "\n",
    "def load_json(filename):\n",
    "    if not os.path.exists(filename):\n",
    "        return None\n",
    "    with open(filename, 'r', encoding='utf-8') as f:\n",
    "        return json.load(f)"
   ]
  },
  {
   "cell_type": "markdown",
   "id": "8ea57abd",
   "metadata": {},
   "source": [
    "### 인코딩 \n",
    "- 인코딩 utf-8"
   ]
  },
  {
   "cell_type": "code",
   "execution_count": null,
   "id": "b707e305",
   "metadata": {},
   "outputs": [
    {
     "name": "stdout",
     "output_type": "stream",
     "text": [
      "[감지됨] TB_RECIPE_SEARCH_241226.csv → 인코딩: utf-8\n",
      "[저장 완료] TB_RECIPE_SEARCH_241226.csv → UTF-8 인코딩 완료\n"
     ]
    }
   ],
   "source": [
    "import pandas as pd\n",
    "import chardet\n",
    "\n",
    "# 기존 파일 리스트\n",
    "original_paths = [\n",
    "    \"TB_RECIPE_SEARCH-220701.csv\",\n",
    "    \"TB_RECIPE_SEARCH-20231130.csv\",\n",
    "    \"TB_RECIPE_SEARCH_241226.csv\"\n",
    "]\n",
    "\n",
    "def encoding(filepath, num_bytes=10000):\n",
    "    # 인코딩 감지\n",
    "    with open(filepath, 'rb') as f:\n",
    "        raw = f.read(num_bytes)\n",
    "    result = chardet.detect(raw)\n",
    "    return result['encoding']\n",
    "\n",
    "# 인코딩 변환 및 덮어쓰기 저장\n",
    "for path in original_paths:\n",
    "    try:\n",
    "        detected_encoding = encoding(path)\n",
    "        print(f\"[감지됨] {path} → 인코딩: {detected_encoding}\")\n",
    "\n",
    "        # 감지된 인코딩으로 열기\n",
    "        with open(path, 'r', encoding=detected_encoding, errors='replace') as f:\n",
    "            df = pd.read_csv(f)\n",
    "\n",
    "        # UTF-8 인코딩 덮어쓰기 저장\n",
    "        df.to_csv(path, index=False, encoding='utf-8-sig')\n",
    "\n",
    "        print(f\"[저장 완료] {path} → UTF-8 인코딩 완료\")\n",
    "\n",
    "    except Exception as e:\n",
    "        print(f\"[실패] {path}: {e}\")"
   ]
  },
  {
   "cell_type": "markdown",
   "id": "4db379d8",
   "metadata": {},
   "source": [
    "### 파일 통합\n",
    "- 3개 파일 통합\n",
    "- .json로 변환\n",
    "- github push 용량 제한으로 다시 4분할"
   ]
  },
  {
   "cell_type": "code",
   "execution_count": 1,
   "id": "d2617ac0",
   "metadata": {},
   "outputs": [
    {
     "name": "stdout",
     "output_type": "stream",
     "text": [
      "[읽기 완료] TB_RECIPE_SEARCH-220701.csv\n",
      "[읽기 완료] TB_RECIPE_SEARCH-20231130.csv\n",
      "[읽기 완료] TB_RECIPE_SEARCH_241226.csv\n"
     ]
    },
    {
     "name": "stderr",
     "output_type": "stream",
     "text": [
      "c:\\Users\\User\\miniconda3\\envs\\boracay\\Lib\\site-packages\\numpy\\_core\\fromnumeric.py:57: FutureWarning: 'DataFrame.swapaxes' is deprecated and will be removed in a future version. Please use 'DataFrame.transpose' instead.\n",
      "  return bound(*args, **kwds)\n"
     ]
    },
    {
     "name": "stdout",
     "output_type": "stream",
     "text": [
      "[저장 완료] recipe_mangae_1.json → 84146개 레시피\n",
      "[저장 완료] recipe_mangae_2.json → 84146개 레시피\n",
      "[저장 완료] recipe_mangae_3.json → 84146개 레시피\n",
      "[저장 완료] recipe_mangae_4.json → 84145개 레시피\n"
     ]
    }
   ],
   "source": [
    "import pandas as pd\n",
    "import numpy as np\n",
    "\n",
    "# 파일 리스트\n",
    "csv_files = [\n",
    "    \"TB_RECIPE_SEARCH-220701.csv\",\n",
    "    \"TB_RECIPE_SEARCH-20231130.csv\",\n",
    "    \"TB_RECIPE_SEARCH_241226.csv\"\n",
    "]\n",
    "\n",
    "# 하나의 DataFrame으로 결합\n",
    "df_list = []\n",
    "for file in csv_files:\n",
    "    try:\n",
    "        df = pd.read_csv(file, encoding='utf-8-sig')\n",
    "        df_list.append(df)\n",
    "        print(f\"[읽기 완료] {file}\")\n",
    "    except Exception as e:\n",
    "        print(f\"[오류] {file}: {e}\")\n",
    "\n",
    "# DataFrame 병합\n",
    "merged_df = pd.concat(df_list, ignore_index=True)\n",
    "\n",
    "# 4분할 저장\n",
    "chunks = np.array_split(merged_df, 4) \n",
    "for i, chunk in enumerate(chunks, 1):\n",
    "    output_file = f\"recipe_mangae_{i}.json\"\n",
    "    chunk.to_json(output_file, orient='records', force_ascii=False, indent=2)\n",
    "    print(f\"[저장 완료] {output_file} → {len(chunk)}개 레시피\")"
   ]
  },
  {
   "cell_type": "markdown",
   "id": "b40c67fa",
   "metadata": {},
   "source": [
    "### key 값 전처리"
   ]
  },
  {
   "cell_type": "markdown",
   "id": "3e8c22c6",
   "metadata": {},
   "source": [
    "- 기존 영어 -> 의미에 맞는 이름으로 변환\n",
    "- 사이트 제공 참고\n",
    "\n",
    "| index | pk    | type         | nameEn             | nameKo(제공)        | 최종 이름        |\n",
    "| ----- | ----- | ------------ | ------------------ | ------------------ | --------------- |\n",
    "| 0     | Y     | NUMBER(40)   | RCP_SNO            | \"레시피일련번호\"     |\"recipe_id\"      |\n",
    "| 1     | N     | VARCHAR(200) | RCP_TTL            | \"레시피제목\"         |\"recipe_title\"   | \n",
    "| 2     | N     | VARCHAR(40)  | CKG_NM             | \"요리명\"            |\"dish_name\"      |\n",
    "| 3     | N     | VARCHAR(32)  | RGTR_ID            | \"등록자ID\"          |\"author_id\"     | \n",
    "| 4     | N     | VARCHAR(64)  | RGTR_NM            | \"등록자명\"          |\"author_name\"    |\n",
    "| 5     | N     | NUMBER(11)   | INQ_CNT            | \"조회수\"            |\"view_count\"    |\n",
    "| 6     | N     | NUMBER(11)   | RCMM_CNT\t        | \"추천수\"            |\"like_count\"    |\n",
    "| 7     | N     | NUMBER(11)   | SRAP_CNT           | \"스크랩수\"          |\"bookmark_count\" |\n",
    "| 8     | N     | VARCHAR(200) | CKG_MTH_ACTO_NM    | \"요리방법별명\"       |\"cooking_method\"    |\n",
    "| 9     | N     | VARCHAR(200) | CKG_STA_ACTO_NM    | \"요리상황별명\"       |\"cooking_situation\"    |\n",
    "| 10    | N     | VARCHAR(200) | CKG_MTRL_ACTO_NM   | \"요리재료별명\"       |\"main_ingredient\"    |\n",
    "| 11    | N     | VARCHAR(200) | CKG_KND_ACTO_NM    | \"요리종류별명\"       |\"dish_type\"    |\n",
    "| 12    | N     | VARCHAR(4000)| CKG_IPDC           | \"요리소개\"          |\"description\"    |\n",
    "| 13    | N     | VARCHAR(4000)| CKG_MTRL_CN        | \"요리재료내용\"       |\"ingredients\"    |\n",
    "| 14    | N     | VARCHAR(200) | CKG_INBUN_NM       | \"요리인분명\"         |\"servings\"    |\n",
    "| 15    | N     | VARCHAR(200) | CKG_DODF_NM        | \"요리난이도명\"       |\"difficulty\"    |\n",
    "| 16    | N     | VARCHAR(200) | CKG_TIME_NM        | \"요리시간명\"         |\"cooking_time\"    |\n",
    "| 17    | N     | CHAR(14)\t   | FIRST_REG_DT       | \"최초등록일시\"       |\"created_at\"    |\n",
    "| 18    | N     | VARCHAR(200) | RCP_IMG_URL        | *미제공             |\"image_url\"    |"
   ]
  },
  {
   "cell_type": "code",
   "execution_count": 2,
   "id": "f4c3e987",
   "metadata": {},
   "outputs": [
    {
     "name": "stderr",
     "output_type": "stream",
     "text": [
      "INFO:__main__:recipe_mangae_1.json - key 변환 완료\n",
      "INFO:__main__:recipe_mangae_2.json - key 변환 완료\n",
      "INFO:__main__:recipe_mangae_3.json - key 변환 완료\n",
      "INFO:__main__:recipe_mangae_4.json - key 변환 완료\n"
     ]
    }
   ],
   "source": [
    "import logging\n",
    "\n",
    "# 로거 설정\n",
    "logging.basicConfig(level=logging.INFO)\n",
    "logger = logging.getLogger(__name__)\n",
    "\n",
    "# 바꿀 key 매핑\n",
    "key_map = {\n",
    "    \"RCP_SNO\": \"recipe_id\",\n",
    "    \"RCP_TTL\": \"recipe_title\",\n",
    "    \"CKG_NM\": \"dish_name\",\n",
    "    \"RGTR_ID\": \"author_id\",\n",
    "    \"RGTR_NM\": \"author_name\",\n",
    "    \"INQ_CNT\": \"view_count\",\n",
    "    \"RCMM_CNT\": \"like_count\",\n",
    "    \"SRAP_CNT\": \"bookmark_count\",\n",
    "    \"CKG_MTH_ACTO_NM\": \"cooking_method\",\n",
    "    \"CKG_STA_ACTO_NM\": \"cooking_situation\",\n",
    "    \"CKG_MTRL_ACTO_NM\": \"main_ingredient\",\n",
    "    \"CKG_KND_ACTO_NM\": \"dish_type\",\n",
    "    \"CKG_IPDC\": \"description\",\n",
    "    \"CKG_MTRL_CN\": \"ingredients\",\n",
    "    \"CKG_INBUN_NM\": \"servings\",\n",
    "    \"CKG_DODF_NM\": \"difficulty\",\n",
    "    \"CKG_TIME_NM\": \"cooking_time\",\n",
    "    \"FIRST_REG_DT\": \"created_at\",\n",
    "    \"RCP_IMG_URL\": \"image_url\"\n",
    "}\n",
    "\n",
    "for i in range(1,5):\n",
    "    data=load_json(f\"recipe_mangae_{i}.json\")\n",
    "    converted_data=[{key_map.get(k, k): v for k, v in recipe.items()} for recipe in data]\n",
    "    save_json(converted_data,f\"recipe_mangae_{i}.json\")\n",
    "    logger.info(f\"recipe_mangae_{i}.json - key 변환 완료\")"
   ]
  },
  {
   "cell_type": "markdown",
   "id": "ce851e29",
   "metadata": {},
   "source": [
    "- 사용되지 않을 것으로 판단한 key 삭제 \n",
    "- 등록자 관련 정보 삭제. 레시피를 누가 작성했냐는 사용될 일 없음 -> \"author_id\", \"author_name\"\n",
    "- 주재료 삭제. 재료 안에도 담겨있는 경우(재료 안에서 검색하면 됨) 혹은 '가공식품류', '채소류' 등의 의미 없는 정보. -> \"main_ingredient\"\n",
    "- 요리 방법 삭제. '끓이기', '굽기' 등의 간단한 요리 방법은 레시피에 제공할 필요도 없고, ai 검색에도 필요 없을 것으로 판단. -> \"cooking_method\""
   ]
  },
  {
   "cell_type": "code",
   "execution_count": null,
   "id": "00d9a806",
   "metadata": {},
   "outputs": [
    {
     "name": "stderr",
     "output_type": "stream",
     "text": [
      "[2025-07-06 17:48:51,532] INFO - key 삭제 완료\n"
     ]
    }
   ],
   "source": [
    "import os\n",
    "import json\n",
    "import logging\n",
    "\n",
    "# 로깅 설정\n",
    "logging.basicConfig(\n",
    "    level=logging.INFO,\n",
    "    format='[%(asctime)s] %(levelname)s - %(message)s'\n",
    ")\n",
    "\n",
    "# 삭제할 키 목록\n",
    "keys_to_delete = [\"author_id\", \"author_name\", \"main_ingredient\", \"cooking_method\"]\n",
    "\n",
    "for i in range(1,5):\n",
    "    data = load_json(f\"recipe_mangae_{i}.json\")\n",
    "\n",
    "    for recipe in data:\n",
    "        for key in keys_to_delete:\n",
    "                del recipe[key]\n",
    "\n",
    "    save_json(data,f\"recipe_mangae_{i}.json\")\n",
    "logging.info(f\"key 삭제 완료\")\n"
   ]
  }
 ],
 "metadata": {
  "kernelspec": {
   "display_name": "boracay",
   "language": "python",
   "name": "python3"
  },
  "language_info": {
   "codemirror_mode": {
    "name": "ipython",
    "version": 3
   },
   "file_extension": ".py",
   "mimetype": "text/x-python",
   "name": "python",
   "nbconvert_exporter": "python",
   "pygments_lexer": "ipython3",
   "version": "3.11.5"
  }
 },
 "nbformat": 4,
 "nbformat_minor": 5
}
