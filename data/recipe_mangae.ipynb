{
 "cells": [
  {
   "cell_type": "markdown",
   "id": "1137e502",
   "metadata": {},
   "source": [
    "## 데이터 수집"
   ]
  },
  {
   "cell_type": "markdown",
   "id": "053db5a7",
   "metadata": {},
   "source": [
    "- https://kadx.co.kr/opmk/frn/pmumkproductDetail/PMU_79c6f1a4-56dd-492e-ad67-c5acba0304d2/5# 에서 무료 제공\n",
    "- csv파일 3개 다운로드"
   ]
  },
  {
   "cell_type": "markdown",
   "id": "fcc42783",
   "metadata": {},
   "source": [
    "## 데이터 전처리"
   ]
  },
  {
   "cell_type": "markdown",
   "id": "8ea57abd",
   "metadata": {},
   "source": [
    "- 인코딩 utf-8"
   ]
  },
  {
   "cell_type": "code",
   "execution_count": 6,
   "id": "b707e305",
   "metadata": {},
   "outputs": [
    {
     "name": "stdout",
     "output_type": "stream",
     "text": [
      "[감지됨] TB_RECIPE_SEARCH_241226.csv → 인코딩: utf-8\n",
      "[저장 완료] TB_RECIPE_SEARCH_241226.csv → UTF-8 인코딩 완료\n"
     ]
    }
   ],
   "source": [
    "import pandas as pd\n",
    "import chardet\n",
    "\n",
    "# 기존 파일 리스트\n",
    "original_paths = [\n",
    "    # \"TB_RECIPE_SEARCH-220701.csv\",\n",
    "    # \"TB_RECIPE_SEARCH-20231130.csv\",\n",
    "    \"TB_RECIPE_SEARCH_241226.csv\"\n",
    "]\n",
    "\n",
    "def encoding(filepath, num_bytes=10000):\n",
    "    # 인코딩 감지\n",
    "    with open(filepath, 'rb') as f:\n",
    "        raw = f.read(num_bytes)\n",
    "    result = chardet.detect(raw)\n",
    "    return result['encoding']\n",
    "\n",
    "# 인코딩 변환 및 덮어쓰기 저장\n",
    "for path in original_paths:\n",
    "    try:\n",
    "        detected_encoding = encoding(path)\n",
    "        print(f\"[감지됨] {path} → 인코딩: {detected_encoding}\")\n",
    "\n",
    "        # 감지된 인코딩으로 열기\n",
    "        with open(path, 'r', encoding=detected_encoding, errors='replace') as f:\n",
    "            df = pd.read_csv(f)\n",
    "\n",
    "        # UTF-8 인코딩 덮어쓰기 저장\n",
    "        df.to_csv(path, index=False, encoding='utf-8-sig')\n",
    "\n",
    "        print(f\"[저장 완료] {path} → UTF-8 인코딩 완료\")\n",
    "\n",
    "    except Exception as e:\n",
    "        print(f\"[실패] {path}: {e}\")"
   ]
  },
  {
   "cell_type": "markdown",
   "id": "4db379d8",
   "metadata": {},
   "source": [
    "- 3개 파일 통합\n",
    "- .json로 변환"
   ]
  },
  {
   "cell_type": "code",
   "execution_count": 8,
   "id": "d2617ac0",
   "metadata": {},
   "outputs": [
    {
     "name": "stdout",
     "output_type": "stream",
     "text": [
      "[읽기 완료] TB_RECIPE_SEARCH-220701.csv\n",
      "[읽기 완료] TB_RECIPE_SEARCH-20231130.csv\n",
      "[읽기 완료] TB_RECIPE_SEARCH_241226.csv\n",
      "[저장 완료] recipe_mangae_1.json → 84146개 행 저장됨\n",
      "[저장 완료] recipe_mangae_2.json → 84146개 행 저장됨\n",
      "[저장 완료] recipe_mangae_3.json → 84146개 행 저장됨\n",
      "[저장 완료] recipe_mangae_4.json → 84145개 행 저장됨\n"
     ]
    }
   ],
   "source": [
    "import pandas as pd\n",
    "\n",
    "# 기존 파일 리스트\n",
    "csv_files = [\n",
    "    \"TB_RECIPE_SEARCH-220701.csv\",\n",
    "    \"TB_RECIPE_SEARCH-20231130.csv\",\n",
    "    \"TB_RECIPE_SEARCH_241226.csv\"\n",
    "]\n",
    "\n",
    "# 하나의 DataFrame으로 결합\n",
    "df_list = []\n",
    "for file in csv_files:\n",
    "    try:\n",
    "        df = pd.read_csv(file, encoding='utf-8-sig')\n",
    "        df_list.append(df)\n",
    "        print(f\"[읽기 완료] {file}\")\n",
    "    except Exception as e:\n",
    "        print(f\"[오류] {file}: {e}\")\n",
    "\n",
    "# DataFrame 병합\n",
    "merged_df = pd.concat(df_list, ignore_index=True)\n",
    "\n",
    "# 총 행 개수\n",
    "total_rows = len(merged_df)\n",
    "chunk_size = total_rows // 4  # 4분할\n",
    "remainder = total_rows % 4    # 나머지\n",
    "\n",
    "# 4분할하여 저장\n",
    "start = 0\n",
    "for i in range(4):\n",
    "    # 마지막 청크에는 나머지를 더해줌\n",
    "    end = start + chunk_size + (1 if i < remainder else 0)\n",
    "    chunk_df = merged_df.iloc[start:end]\n",
    "    \n",
    "    output_file = f\"recipe_mangae_{i+1}.json\"\n",
    "    chunk_df.to_json(output_file, orient='records', force_ascii=False, indent=2)\n",
    "    print(f\"[저장 완료] {output_file} → {len(chunk_df)}개 행 저장됨\")\n",
    "    \n",
    "    start = end"
   ]
  }
 ],
 "metadata": {
  "kernelspec": {
   "display_name": "boracay",
   "language": "python",
   "name": "python3"
  },
  "language_info": {
   "codemirror_mode": {
    "name": "ipython",
    "version": 3
   },
   "file_extension": ".py",
   "mimetype": "text/x-python",
   "name": "python",
   "nbconvert_exporter": "python",
   "pygments_lexer": "ipython3",
   "version": "3.11.5"
  }
 },
 "nbformat": 4,
 "nbformat_minor": 5
}
