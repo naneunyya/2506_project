{
 "cells": [
  {
   "cell_type": "markdown",
   "id": "e7f90857",
   "metadata": {},
   "source": [
    "### categories"
   ]
  },
  {
   "cell_type": "code",
   "execution_count": 1,
   "id": "28c3f8f6",
   "metadata": {},
   "outputs": [],
   "source": [
    "import os\n",
    "import pymysql\n",
    "import json\n",
    "import logging\n",
    "from dotenv import load_dotenv\n",
    "\n",
    "# 환경 변수 로드\n",
    "load_dotenv()\n",
    "\n",
    "# MySQL 연결\n",
    "conn = pymysql.connect(\n",
    "    host=os.getenv(\"DB_HOST\"),\n",
    "    port=int(os.getenv(\"DB_PORT\")),\n",
    "    user=os.getenv(\"DB_USER\"),\n",
    "    password=os.getenv(\"DB_PASSWORD\"),\n",
    "    database=os.getenv(\"DB_NAME\"),\n",
    "    charset=\"utf8mb4\",\n",
    "    cursorclass=pymysql.cursors.DictCursor\n",
    ")\n",
    "cursor = conn.cursor()\n",
    "\n",
    "# CREATE Table\n",
    "create_table_sql = \"\"\"\n",
    "CREATE TABLE IF NOT EXISTS categories (\n",
    "    id INT NOT NULL,\n",
    "    name VARCHAR(100) NOT NULL,\n",
    "    parent_id INT DEFAULT NULL,\n",
    "    PRIMARY KEY (id)\n",
    ") ENGINE=InnoDB DEFAULT CHARSET=utf8mb4;\n",
    "\"\"\"\n",
    "cursor.execute(create_table_sql)\n",
    "logging.info(\"create 'categories' table\")\n",
    "\n",
    "# JSON 파일 불러오기\n",
    "with open(\"product_categories.json\", \"r\", encoding=\"utf-8\") as file:\n",
    "    data = json.load(file)\n",
    "\n",
    "# INSERT Table\n",
    "insert_sql = \"\"\"\n",
    "INSERT INTO categories (id, name, parent_id)\n",
    "VALUES (%s, %s, %s)\n",
    "\"\"\"\n",
    "\n",
    "# 데이터 삽입\n",
    "for row in data:\n",
    "    cursor.execute(\n",
    "        insert_sql,\n",
    "        (\n",
    "            row.get(\"id\"),\n",
    "            row.get(\"name\"),\n",
    "            row.get(\"parent_id\")\n",
    "        )\n",
    "    )\n",
    "\n",
    "conn.commit()\n",
    "logging.info(f\"{len(data)}개 data insert\")\n",
    "\n",
    "cursor.close()\n",
    "conn.close()"
   ]
  }
 ],
 "metadata": {
  "kernelspec": {
   "display_name": "boracay",
   "language": "python",
   "name": "python3"
  },
  "language_info": {
   "codemirror_mode": {
    "name": "ipython",
    "version": 3
   },
   "file_extension": ".py",
   "mimetype": "text/x-python",
   "name": "python",
   "nbconvert_exporter": "python",
   "pygments_lexer": "ipython3",
   "version": "3.11.5"
  }
 },
 "nbformat": 4,
 "nbformat_minor": 5
}
